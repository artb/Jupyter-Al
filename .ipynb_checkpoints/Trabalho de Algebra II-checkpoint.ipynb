{
 "cells": [
  {
   "cell_type": "code",
   "execution_count": 3,
   "metadata": {},
   "outputs": [],
   "source": [
    "import numpy"
   ]
  },
  {
   "cell_type": "markdown",
   "metadata": {},
   "source": [
    "# Trabalho de Algebra 2"
   ]
  },
  {
   "cell_type": "code",
   "execution_count": 4,
   "metadata": {},
   "outputs": [],
   "source": [
    "matrix = [[1, 2, 3], [42, 5, 6], [7, 8, 9]]"
   ]
  },
  {
   "cell_type": "markdown",
   "metadata": {},
   "source": [
    "## Determinante\n",
    "### Maneira de resolver: O numpy resolve da melhor maneira usan"
   ]
  },
  {
   "cell_type": "code",
   "execution_count": 5,
   "metadata": {},
   "outputs": [],
   "source": [
    "det = numpy.linalg.det(matrix)"
   ]
  },
  {
   "cell_type": "code",
   "execution_count": 6,
   "metadata": {},
   "outputs": [],
   "source": [
    "def determinantOfMatrix(mat): \n",
    "  \n",
    "    n = len(mat)\n",
    "    temp = [0] * n  \n",
    "    total = 1 \n",
    "    det = 1\n",
    "  \n",
    "    # loop iterando pelos elementos em diagonal\n",
    "    for i in range(0,n): \n",
    "        index = i\n",
    "  \n",
    "        # Pega os valores da coluna exterior procurando por uma que o valor nao é zero   \n",
    "        while(mat[index][i] == 0 and index < n): \n",
    "            index += 1\n",
    "     \n",
    "        if(index == n): # se nao encontramos nenhum valor diferente de zero\n",
    "            # interrompe esse laço e recomeça um novo laço la no for\n",
    "            continue\n",
    "  \n",
    "        if(index != i): \n",
    "            # troco de lugar o index e o valor da linha\n",
    "            for j in range(0,n): \n",
    "                mat[index][j],mat[i][j] = mat[i][j],mat[index][j] \n",
    "                  \n",
    "            # troca o sinal do determinante ao trocar de linha  \n",
    "            det = det*int(pow(-1,index-i)) \n",
    "    \n",
    "        # guardando os valores da diagonal \n",
    "        for j in range(0,n): \n",
    "            temp[j] = mat[i][j] \n",
    "           \n",
    "        #fazendo a transversal dos valores embaixo da matriz principal\n",
    "        for j in range(i+1,n): \n",
    "            num1 = temp[i]     # valor da matriz principal\n",
    "            num2 = mat[j][i]   # valor da linha nao principal \n",
    "  \n",
    "            # fazendo a transversal das outras linhas\n",
    "            # e multiplicando as linhas\n",
    "            for k in range(0,n): \n",
    "                mat[j][k] = (num1*mat[j][k]) - (num2*temp[k]) \n",
    "  \n",
    "            total = total * num1 # Det(kA)=kDet(A); \n",
    "  \n",
    "    # multiplicando a transversal para pegar o determinante \n",
    "    for i in range(0,n): \n",
    "         det = det*mat[i][i] \n",
    "  \n",
    "  \n",
    "    return int(det/total) #Det(kA)/k=Det(A);   "
   ]
  },
  {
   "cell_type": "code",
   "execution_count": 7,
   "metadata": {},
   "outputs": [
    {
     "name": "stdout",
     "output_type": "stream",
     "text": [
      "Determinante caluclado com numpy: \n",
      "227.99999999999986\n"
     ]
    }
   ],
   "source": [
    "print(\"Determinante caluclado com numpy: \")\n",
    "print(det)"
   ]
  },
  {
   "cell_type": "code",
   "execution_count": 8,
   "metadata": {},
   "outputs": [
    {
     "name": "stdout",
     "output_type": "stream",
     "text": [
      "Determinante caluclado pelo arthur: \n"
     ]
    },
    {
     "data": {
      "text/plain": [
       "228"
      ]
     },
     "execution_count": 8,
     "metadata": {},
     "output_type": "execute_result"
    }
   ],
   "source": [
    "print(\"Determinante caluclado pelo arthur: \")\n",
    "determinantOfMatrix(matrix)"
   ]
  },
  {
   "cell_type": "code",
   "execution_count": null,
   "metadata": {},
   "outputs": [],
   "source": []
  }
 ],
 "metadata": {
  "kernelspec": {
   "display_name": "Python 3",
   "language": "python",
   "name": "python3"
  },
  "language_info": {
   "codemirror_mode": {
    "name": "ipython",
    "version": 3
   },
   "file_extension": ".py",
   "mimetype": "text/x-python",
   "name": "python",
   "nbconvert_exporter": "python",
   "pygments_lexer": "ipython3",
   "version": "3.7.4"
  }
 },
 "nbformat": 4,
 "nbformat_minor": 2
}
